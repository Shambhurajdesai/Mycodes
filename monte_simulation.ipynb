{
 "cells": [
  {
   "cell_type": "code",
   "execution_count": 8,
   "id": "7a8c7352",
   "metadata": {},
   "outputs": [
    {
     "name": "stdout",
     "output_type": "stream",
     "text": [
      "A\n"
     ]
    }
   ],
   "source": [
    "x=18\n",
    "if x>10:\n",
    "    if x > 15:\n",
    "        print('A')\n",
    "    else:\n",
    "        print('B')\n",
    "else:\n",
    "    print('C')"
   ]
  },
  {
   "cell_type": "code",
   "execution_count": 9,
   "id": "873305dd",
   "metadata": {},
   "outputs": [],
   "source": [
    "dict_ = [{'rohit':45,'virat':18,'dhoni':7,'raina':48,'ashwin':99},{'rayudu':2,'sachin':10,'uv':12,'sehwag':8,'nehara':68}]"
   ]
  },
  {
   "cell_type": "code",
   "execution_count": 10,
   "id": "b42b859f",
   "metadata": {},
   "outputs": [
    {
     "data": {
      "text/plain": [
       "list"
      ]
     },
     "execution_count": 10,
     "metadata": {},
     "output_type": "execute_result"
    }
   ],
   "source": [
    "type(dict_)"
   ]
  },
  {
   "cell_type": "code",
   "execution_count": 11,
   "id": "ccd093f9",
   "metadata": {},
   "outputs": [],
   "source": [
    "dict_[0].update({'bumrah':33})"
   ]
  },
  {
   "cell_type": "code",
   "execution_count": 12,
   "id": "565540ec",
   "metadata": {},
   "outputs": [],
   "source": [
    "dict_[-1]['sachin'] = 258"
   ]
  },
  {
   "cell_type": "code",
   "execution_count": 13,
   "id": "5da94140",
   "metadata": {},
   "outputs": [
    {
     "name": "stdout",
     "output_type": "stream",
     "text": [
      "[{'rohit': 45, 'virat': 18, 'dhoni': 7, 'raina': 48, 'ashwin': 99, 'bumrah': 33}, {'rayudu': 2, 'sachin': 258, 'uv': 12, 'sehwag': 8, 'nehara': 68}]\n"
     ]
    }
   ],
   "source": [
    "print(dict_)"
   ]
  },
  {
   "cell_type": "code",
   "execution_count": 14,
   "id": "94476f74",
   "metadata": {},
   "outputs": [],
   "source": [
    "dict_[1].update({'baby_ab':56})"
   ]
  },
  {
   "cell_type": "code",
   "execution_count": 15,
   "id": "e5c6ecf5",
   "metadata": {},
   "outputs": [
    {
     "data": {
      "text/plain": [
       "[{'rohit': 45,\n",
       "  'virat': 18,\n",
       "  'dhoni': 7,\n",
       "  'raina': 48,\n",
       "  'ashwin': 99,\n",
       "  'bumrah': 33},\n",
       " {'rayudu': 2,\n",
       "  'sachin': 258,\n",
       "  'uv': 12,\n",
       "  'sehwag': 8,\n",
       "  'nehara': 68,\n",
       "  'baby_ab': 56}]"
      ]
     },
     "execution_count": 15,
     "metadata": {},
     "output_type": "execute_result"
    }
   ],
   "source": [
    "dict_"
   ]
  },
  {
   "cell_type": "code",
   "execution_count": 22,
   "id": "12869378",
   "metadata": {},
   "outputs": [],
   "source": [
    "from IPython.display import Video"
   ]
  },
  {
   "cell_type": "code",
   "execution_count": null,
   "id": "2c1f30d4",
   "metadata": {},
   "outputs": [],
   "source": []
  },
  {
   "cell_type": "code",
   "execution_count": 25,
   "id": "250b077c",
   "metadata": {},
   "outputs": [],
   "source": [
    "a=[[2,5,6],\n",
    "  [9,7,6],\n",
    "  [3,4,2]]"
   ]
  },
  {
   "cell_type": "code",
   "execution_count": 27,
   "id": "6a56afa4",
   "metadata": {},
   "outputs": [
    {
     "ename": "TypeError",
     "evalue": "list indices must be integers or slices, not list",
     "output_type": "error",
     "traceback": [
      "\u001b[1;31m---------------------------------------------------------------------------\u001b[0m",
      "\u001b[1;31mTypeError\u001b[0m                                 Traceback (most recent call last)",
      "\u001b[1;32m<ipython-input-27-dc655eabe342>\u001b[0m in \u001b[0;36m<module>\u001b[1;34m\u001b[0m\n\u001b[0;32m      1\u001b[0m \u001b[1;32mfor\u001b[0m \u001b[0mi\u001b[0m \u001b[1;32min\u001b[0m \u001b[0ma\u001b[0m\u001b[1;33m:\u001b[0m\u001b[1;33m\u001b[0m\u001b[1;33m\u001b[0m\u001b[0m\n\u001b[0;32m      2\u001b[0m     \u001b[1;32mfor\u001b[0m \u001b[0mj\u001b[0m \u001b[1;32min\u001b[0m \u001b[0mi\u001b[0m\u001b[1;33m:\u001b[0m\u001b[1;33m\u001b[0m\u001b[1;33m\u001b[0m\u001b[0m\n\u001b[1;32m----> 3\u001b[1;33m         \u001b[0mi\u001b[0m\u001b[1;33m[\u001b[0m\u001b[0mj\u001b[0m\u001b[1;33m]\u001b[0m \u001b[1;33m==\u001b[0m \u001b[0ma\u001b[0m\u001b[1;33m[\u001b[0m\u001b[0mi\u001b[0m\u001b[1;33m]\u001b[0m\u001b[1;33m\u001b[0m\u001b[1;33m\u001b[0m\u001b[0m\n\u001b[0m",
      "\u001b[1;31mTypeError\u001b[0m: list indices must be integers or slices, not list"
     ]
    }
   ],
   "source": [
    "b = [i for i in a,j for j in i if]"
   ]
  },
  {
   "cell_type": "code",
   "execution_count": 1,
   "id": "1cbc0865",
   "metadata": {},
   "outputs": [
    {
     "name": "stdout",
     "output_type": "stream",
     "text": [
      "Object `norm.rvs` not found.\n"
     ]
    }
   ],
   "source": [
    "norm.rvs?"
   ]
  },
  {
   "cell_type": "code",
   "execution_count": 2,
   "id": "4979c6e5",
   "metadata": {},
   "outputs": [],
   "source": [
    "import pandas as pd\n",
    "import numpy as np\n",
    "from scipy.stats import norm\n",
    "from scipy.stats import uniform \n",
    "import seaborn as sns\n",
    "import matplotlib.pyplot as plt\n",
    "sns.set_style('whitegrid')"
   ]
  },
  {
   "cell_type": "code",
   "execution_count": 3,
   "id": "81857d58",
   "metadata": {},
   "outputs": [],
   "source": [
    "mean = 1\n",
    "std_dev = 0.1\n",
    "num_reps = 500"
   ]
  },
  {
   "cell_type": "code",
   "execution_count": 17,
   "id": "07397da1",
   "metadata": {},
   "outputs": [
    {
     "name": "stderr",
     "output_type": "stream",
     "text": [
      "C:\\Anaconda Python\\lib\\site-packages\\seaborn\\distributions.py:2557: FutureWarning: `distplot` is a deprecated function and will be removed in a future version. Please adapt your code to use either `displot` (a figure-level function with similar flexibility) or `histplot` (an axes-level function for histograms).\n",
      "  warnings.warn(msg, FutureWarning)\n"
     ]
    },
    {
     "data": {
      "text/plain": [
       "Text(0.5, 1.0, 'Percent to Target distribution')"
      ]
     },
     "execution_count": 17,
     "metadata": {},
     "output_type": "execute_result"
    },
    {
     "data": {
      "image/png": "[encoded data removed]",
      "text/plain": [
       "<Figure size 432x288 with 1 Axes>"
      ]
     },
     "metadata": {},
     "output_type": "display_data"
    }
   ],
   "source": [
    "pct_to_trg = norm.rvs(mean,std_dev,num_reps).round(2)\n",
    "sns.distplot(pct_to_trg).set_title('Percent to Target distribution')"
   ]
  },
  {
   "cell_type": "code",
   "execution_count": null,
   "id": "38280fc0",
   "metadata": {},
   "outputs": [],
   "source": []
  },
  {
   "cell_type": "code",
   "execution_count": 12,
   "id": "aec2a748",
   "metadata": {},
   "outputs": [],
   "source": [
    "sales_target_values = [75_000, 100_000, 200_000, 300_000, 400_000, 500_000]\n",
    "sales_target_prob = [.3, .3, .2, .1, .05, .05]\n",
    "sales_target = np.random.choice(sales_target_values, num_reps, p=sales_target_prob)"
   ]
  },
  {
   "cell_type": "code",
   "execution_count": 13,
   "id": "33372d44",
   "metadata": {},
   "outputs": [
    {
     "data": {
      "text/plain": [
       "array([100000, 100000, 100000, 200000, 400000,  75000, 400000, 100000,\n",
       "       100000, 100000,  75000, 100000, 200000, 100000, 300000,  75000,\n",
       "        75000, 400000, 300000, 300000, 100000,  75000, 200000,  75000,\n",
       "        75000,  75000,  75000,  75000, 100000, 200000,  75000,  75000,\n",
       "       200000, 200000, 300000,  75000,  75000, 100000, 100000, 200000,\n",
       "       300000,  75000, 100000, 300000, 200000, 400000, 200000,  75000,\n",
       "       300000,  75000, 500000,  75000, 200000,  75000,  75000, 200000,\n",
       "       300000,  75000, 500000, 300000, 200000,  75000, 100000, 200000,\n",
       "       200000, 200000, 100000, 300000,  75000, 200000, 100000, 100000,\n",
       "       300000, 100000, 100000,  75000, 300000, 100000, 500000, 200000,\n",
       "       200000, 200000, 200000, 300000,  75000, 100000, 100000, 500000,\n",
       "       100000, 200000, 500000, 100000,  75000,  75000,  75000,  75000,\n",
       "       300000,  75000, 200000, 100000, 100000, 200000, 500000, 200000,\n",
       "       200000, 100000,  75000, 200000, 100000, 100000, 200000, 100000,\n",
       "       200000, 500000, 300000, 400000, 200000, 200000, 300000, 300000,\n",
       "        75000, 500000, 200000, 300000, 200000,  75000, 100000,  75000,\n",
       "        75000, 200000, 500000,  75000, 100000, 200000, 100000,  75000,\n",
       "       200000, 100000, 200000, 500000, 100000,  75000, 100000, 300000,\n",
       "       200000, 200000,  75000, 100000, 400000, 200000, 100000, 200000,\n",
       "       400000, 100000, 300000, 300000, 100000,  75000, 200000, 400000,\n",
       "       100000, 200000, 100000, 100000,  75000, 100000, 200000,  75000,\n",
       "       400000,  75000, 100000,  75000, 400000, 100000, 300000, 300000,\n",
       "       100000, 500000,  75000, 200000,  75000,  75000,  75000,  75000,\n",
       "       200000, 100000,  75000, 200000, 100000,  75000,  75000, 200000,\n",
       "       100000, 200000,  75000, 100000,  75000, 100000,  75000, 100000,\n",
       "       400000, 200000, 200000,  75000, 100000,  75000, 100000, 100000,\n",
       "        75000,  75000, 300000, 100000, 200000, 200000,  75000,  75000,\n",
       "        75000, 200000, 500000, 200000,  75000,  75000, 300000, 500000,\n",
       "       100000, 100000, 300000,  75000, 300000,  75000, 100000, 100000,\n",
       "       300000, 200000,  75000, 400000, 200000, 100000, 100000, 200000,\n",
       "       100000, 300000,  75000, 100000, 100000,  75000, 100000,  75000,\n",
       "       500000, 500000,  75000, 100000, 100000, 100000, 300000,  75000,\n",
       "       100000,  75000, 200000, 200000, 100000, 500000, 100000, 200000,\n",
       "       300000,  75000, 100000,  75000, 200000, 100000, 100000,  75000,\n",
       "       300000, 200000,  75000, 200000, 100000,  75000, 200000,  75000,\n",
       "       100000, 200000, 300000, 200000, 200000, 400000, 100000, 100000,\n",
       "       200000,  75000,  75000,  75000, 100000, 100000, 200000,  75000,\n",
       "       100000,  75000, 100000,  75000,  75000, 300000,  75000, 500000,\n",
       "       100000, 200000, 200000, 100000, 400000, 100000,  75000, 100000,\n",
       "        75000, 200000, 500000,  75000, 300000,  75000,  75000, 100000,\n",
       "       200000, 400000, 200000, 100000, 100000, 100000,  75000,  75000,\n",
       "       100000, 100000, 200000,  75000, 500000,  75000, 100000,  75000,\n",
       "       100000, 100000, 200000, 200000, 100000,  75000, 200000, 100000,\n",
       "       100000, 200000, 100000,  75000, 100000, 400000,  75000,  75000,\n",
       "        75000, 200000, 200000, 100000, 500000,  75000, 100000, 500000,\n",
       "        75000,  75000, 100000, 100000, 100000,  75000,  75000, 100000,\n",
       "       100000, 200000, 300000,  75000, 300000, 200000, 100000,  75000,\n",
       "       200000, 400000, 300000, 200000, 100000, 100000, 100000, 100000,\n",
       "       300000,  75000, 200000, 300000, 400000, 400000, 100000, 100000,\n",
       "        75000, 300000,  75000,  75000,  75000, 100000, 200000, 200000,\n",
       "       300000, 100000, 100000, 300000, 100000,  75000, 300000,  75000,\n",
       "       200000,  75000, 400000, 200000,  75000, 500000,  75000, 200000,\n",
       "       500000, 100000,  75000, 100000, 300000, 100000, 300000,  75000,\n",
       "        75000, 100000, 200000, 100000, 100000, 500000, 200000,  75000,\n",
       "       200000,  75000, 200000, 200000, 300000, 100000, 100000, 100000,\n",
       "        75000, 100000,  75000, 200000, 100000, 200000, 200000,  75000,\n",
       "       200000, 100000, 200000, 200000, 200000, 100000, 200000, 200000,\n",
       "       500000, 100000, 100000, 400000, 100000,  75000, 200000, 100000,\n",
       "       200000,  75000, 100000, 500000, 100000,  75000, 100000,  75000,\n",
       "       200000, 100000,  75000, 200000, 200000,  75000,  75000, 200000,\n",
       "        75000,  75000, 500000, 300000,  75000, 300000,  75000, 400000,\n",
       "        75000,  75000,  75000, 100000, 300000,  75000, 100000,  75000,\n",
       "       100000, 500000, 200000, 200000])"
      ]
     },
     "execution_count": 13,
     "metadata": {},
     "output_type": "execute_result"
    }
   ],
   "source": [
    "sales_target"
   ]
  },
  {
   "cell_type": "code",
   "execution_count": 21,
   "id": "f7d7d030",
   "metadata": {},
   "outputs": [
    {
     "data": {
      "text/html": [
       "<div>\n",
       "<style scoped>\n",
       "    .dataframe tbody tr th:only-of-type {\n",
       "        vertical-align: middle;\n",
       "    }\n",
       "\n",
       "    .dataframe tbody tr th {\n",
       "        vertical-align: top;\n",
       "    }\n",
       "\n",
       "    .dataframe thead th {\n",
       "        text-align: right;\n",
       "    }\n",
       "</style>\n",
       "<table border=\"1\" class=\"dataframe\">\n",
       "  <thead>\n",
       "    <tr style=\"text-align: right;\">\n",
       "      <th></th>\n",
       "      <th>Pct_To_Target</th>\n",
       "      <th>Sales_Target</th>\n",
       "    </tr>\n",
       "  </thead>\n",
       "  <tbody>\n",
       "    <tr>\n",
       "      <th>0</th>\n",
       "      <td>0.97</td>\n",
       "      <td>100000</td>\n",
       "    </tr>\n",
       "    <tr>\n",
       "      <th>1</th>\n",
       "      <td>1.03</td>\n",
       "      <td>100000</td>\n",
       "    </tr>\n",
       "    <tr>\n",
       "      <th>2</th>\n",
       "      <td>1.14</td>\n",
       "      <td>100000</td>\n",
       "    </tr>\n",
       "    <tr>\n",
       "      <th>3</th>\n",
       "      <td>0.94</td>\n",
       "      <td>200000</td>\n",
       "    </tr>\n",
       "    <tr>\n",
       "      <th>4</th>\n",
       "      <td>1.06</td>\n",
       "      <td>400000</td>\n",
       "    </tr>\n",
       "    <tr>\n",
       "      <th>...</th>\n",
       "      <td>...</td>\n",
       "      <td>...</td>\n",
       "    </tr>\n",
       "    <tr>\n",
       "      <th>495</th>\n",
       "      <td>1.10</td>\n",
       "      <td>75000</td>\n",
       "    </tr>\n",
       "    <tr>\n",
       "      <th>496</th>\n",
       "      <td>1.05</td>\n",
       "      <td>100000</td>\n",
       "    </tr>\n",
       "    <tr>\n",
       "      <th>497</th>\n",
       "      <td>0.95</td>\n",
       "      <td>500000</td>\n",
       "    </tr>\n",
       "    <tr>\n",
       "      <th>498</th>\n",
       "      <td>1.02</td>\n",
       "      <td>200000</td>\n",
       "    </tr>\n",
       "    <tr>\n",
       "      <th>499</th>\n",
       "      <td>1.08</td>\n",
       "      <td>200000</td>\n",
       "    </tr>\n",
       "  </tbody>\n",
       "</table>\n",
       "<p>500 rows × 2 columns</p>\n",
       "</div>"
      ],
      "text/plain": [
       "     Pct_To_Target  Sales_Target\n",
       "0             0.97        100000\n",
       "1             1.03        100000\n",
       "2             1.14        100000\n",
       "3             0.94        200000\n",
       "4             1.06        400000\n",
       "..             ...           ...\n",
       "495           1.10         75000\n",
       "496           1.05        100000\n",
       "497           0.95        500000\n",
       "498           1.02        200000\n",
       "499           1.08        200000\n",
       "\n",
       "[500 rows x 2 columns]"
      ]
     },
     "execution_count": 21,
     "metadata": {},
     "output_type": "execute_result"
    }
   ],
   "source": [
    "df = pd.DataFrame(index=range(num_reps), data={'Pct_To_Target': pct_to_trg,\n",
    "                                               'Sales_Target': sales_target})\n",
    "df"
   ]
  },
  {
   "cell_type": "code",
   "execution_count": 22,
   "id": "c5b79812",
   "metadata": {},
   "outputs": [],
   "source": [
    "df['Sales'] = df['Pct_To_Target'] * df['Sales_Target']"
   ]
  },
  {
   "cell_type": "code",
   "execution_count": 23,
   "id": "1bc7bee1",
   "metadata": {},
   "outputs": [
    {
     "data": {
      "text/html": [
       "<div>\n",
       "<style scoped>\n",
       "    .dataframe tbody tr th:only-of-type {\n",
       "        vertical-align: middle;\n",
       "    }\n",
       "\n",
       "    .dataframe tbody tr th {\n",
       "        vertical-align: top;\n",
       "    }\n",
       "\n",
       "    .dataframe thead th {\n",
       "        text-align: right;\n",
       "    }\n",
       "</style>\n",
       "<table border=\"1\" class=\"dataframe\">\n",
       "  <thead>\n",
       "    <tr style=\"text-align: right;\">\n",
       "      <th></th>\n",
       "      <th>Pct_To_Target</th>\n",
       "      <th>Sales_Target</th>\n",
       "      <th>Sales</th>\n",
       "    </tr>\n",
       "  </thead>\n",
       "  <tbody>\n",
       "    <tr>\n",
       "      <th>0</th>\n",
       "      <td>0.97</td>\n",
       "      <td>100000</td>\n",
       "      <td>97000.0</td>\n",
       "    </tr>\n",
       "    <tr>\n",
       "      <th>1</th>\n",
       "      <td>1.03</td>\n",
       "      <td>100000</td>\n",
       "      <td>103000.0</td>\n",
       "    </tr>\n",
       "    <tr>\n",
       "      <th>2</th>\n",
       "      <td>1.14</td>\n",
       "      <td>100000</td>\n",
       "      <td>114000.0</td>\n",
       "    </tr>\n",
       "    <tr>\n",
       "      <th>3</th>\n",
       "      <td>0.94</td>\n",
       "      <td>200000</td>\n",
       "      <td>188000.0</td>\n",
       "    </tr>\n",
       "    <tr>\n",
       "      <th>4</th>\n",
       "      <td>1.06</td>\n",
       "      <td>400000</td>\n",
       "      <td>424000.0</td>\n",
       "    </tr>\n",
       "    <tr>\n",
       "      <th>...</th>\n",
       "      <td>...</td>\n",
       "      <td>...</td>\n",
       "      <td>...</td>\n",
       "    </tr>\n",
       "    <tr>\n",
       "      <th>495</th>\n",
       "      <td>1.10</td>\n",
       "      <td>75000</td>\n",
       "      <td>82500.0</td>\n",
       "    </tr>\n",
       "    <tr>\n",
       "      <th>496</th>\n",
       "      <td>1.05</td>\n",
       "      <td>100000</td>\n",
       "      <td>105000.0</td>\n",
       "    </tr>\n",
       "    <tr>\n",
       "      <th>497</th>\n",
       "      <td>0.95</td>\n",
       "      <td>500000</td>\n",
       "      <td>475000.0</td>\n",
       "    </tr>\n",
       "    <tr>\n",
       "      <th>498</th>\n",
       "      <td>1.02</td>\n",
       "      <td>200000</td>\n",
       "      <td>204000.0</td>\n",
       "    </tr>\n",
       "    <tr>\n",
       "      <th>499</th>\n",
       "      <td>1.08</td>\n",
       "      <td>200000</td>\n",
       "      <td>216000.0</td>\n",
       "    </tr>\n",
       "  </tbody>\n",
       "</table>\n",
       "<p>500 rows × 3 columns</p>\n",
       "</div>"
      ],
      "text/plain": [
       "     Pct_To_Target  Sales_Target     Sales\n",
       "0             0.97        100000   97000.0\n",
       "1             1.03        100000  103000.0\n",
       "2             1.14        100000  114000.0\n",
       "3             0.94        200000  188000.0\n",
       "4             1.06        400000  424000.0\n",
       "..             ...           ...       ...\n",
       "495           1.10         75000   82500.0\n",
       "496           1.05        100000  105000.0\n",
       "497           0.95        500000  475000.0\n",
       "498           1.02        200000  204000.0\n",
       "499           1.08        200000  216000.0\n",
       "\n",
       "[500 rows x 3 columns]"
      ]
     },
     "execution_count": 23,
     "metadata": {},
     "output_type": "execute_result"
    }
   ],
   "source": [
    "df"
   ]
  },
  {
   "cell_type": "code",
   "execution_count": 25,
   "id": "5c46e891",
   "metadata": {},
   "outputs": [],
   "source": [
    "def cal_commission_rate(x):\n",
    "    if x <= .90:\n",
    "        return .02\n",
    "    if x <= .99:\n",
    "        return .03\n",
    "    else:\n",
    "        return .04"
   ]
  },
  {
   "cell_type": "code",
   "execution_count": 27,
   "id": "07c4f69b",
   "metadata": {},
   "outputs": [],
   "source": [
    "df['Commission_Rate'] = df['Pct_To_Target'].apply(cal_commission_rate)"
   ]
  },
  {
   "cell_type": "code",
   "execution_count": 29,
   "id": "79ac07d2",
   "metadata": {},
   "outputs": [],
   "source": [
    "df['Commission_Amount'] = df['Commission_Rate'] * df['Sales']"
   ]
  },
  {
   "cell_type": "code",
   "execution_count": 30,
   "id": "7c5094e7",
   "metadata": {},
   "outputs": [
    {
     "data": {
      "text/html": [
       "<div>\n",
       "<style scoped>\n",
       "    .dataframe tbody tr th:only-of-type {\n",
       "        vertical-align: middle;\n",
       "    }\n",
       "\n",
       "    .dataframe tbody tr th {\n",
       "        vertical-align: top;\n",
       "    }\n",
       "\n",
       "    .dataframe thead th {\n",
       "        text-align: right;\n",
       "    }\n",
       "</style>\n",
       "<table border=\"1\" class=\"dataframe\">\n",
       "  <thead>\n",
       "    <tr style=\"text-align: right;\">\n",
       "      <th></th>\n",
       "      <th>Pct_To_Target</th>\n",
       "      <th>Sales_Target</th>\n",
       "      <th>Sales</th>\n",
       "      <th>Commission_Rate</th>\n",
       "      <th>Commission_Amount</th>\n",
       "    </tr>\n",
       "  </thead>\n",
       "  <tbody>\n",
       "    <tr>\n",
       "      <th>0</th>\n",
       "      <td>0.97</td>\n",
       "      <td>100000</td>\n",
       "      <td>97000.0</td>\n",
       "      <td>0.03</td>\n",
       "      <td>2910.0</td>\n",
       "    </tr>\n",
       "    <tr>\n",
       "      <th>1</th>\n",
       "      <td>1.03</td>\n",
       "      <td>100000</td>\n",
       "      <td>103000.0</td>\n",
       "      <td>0.04</td>\n",
       "      <td>4120.0</td>\n",
       "    </tr>\n",
       "    <tr>\n",
       "      <th>2</th>\n",
       "      <td>1.14</td>\n",
       "      <td>100000</td>\n",
       "      <td>114000.0</td>\n",
       "      <td>0.04</td>\n",
       "      <td>4560.0</td>\n",
       "    </tr>\n",
       "    <tr>\n",
       "      <th>3</th>\n",
       "      <td>0.94</td>\n",
       "      <td>200000</td>\n",
       "      <td>188000.0</td>\n",
       "      <td>0.03</td>\n",
       "      <td>5640.0</td>\n",
       "    </tr>\n",
       "    <tr>\n",
       "      <th>4</th>\n",
       "      <td>1.06</td>\n",
       "      <td>400000</td>\n",
       "      <td>424000.0</td>\n",
       "      <td>0.04</td>\n",
       "      <td>16960.0</td>\n",
       "    </tr>\n",
       "    <tr>\n",
       "      <th>...</th>\n",
       "      <td>...</td>\n",
       "      <td>...</td>\n",
       "      <td>...</td>\n",
       "      <td>...</td>\n",
       "      <td>...</td>\n",
       "    </tr>\n",
       "    <tr>\n",
       "      <th>495</th>\n",
       "      <td>1.10</td>\n",
       "      <td>75000</td>\n",
       "      <td>82500.0</td>\n",
       "      <td>0.04</td>\n",
       "      <td>3300.0</td>\n",
       "    </tr>\n",
       "    <tr>\n",
       "      <th>496</th>\n",
       "      <td>1.05</td>\n",
       "      <td>100000</td>\n",
       "      <td>105000.0</td>\n",
       "      <td>0.04</td>\n",
       "      <td>4200.0</td>\n",
       "    </tr>\n",
       "    <tr>\n",
       "      <th>497</th>\n",
       "      <td>0.95</td>\n",
       "      <td>500000</td>\n",
       "      <td>475000.0</td>\n",
       "      <td>0.03</td>\n",
       "      <td>14250.0</td>\n",
       "    </tr>\n",
       "    <tr>\n",
       "      <th>498</th>\n",
       "      <td>1.02</td>\n",
       "      <td>200000</td>\n",
       "      <td>204000.0</td>\n",
       "      <td>0.04</td>\n",
       "      <td>8160.0</td>\n",
       "    </tr>\n",
       "    <tr>\n",
       "      <th>499</th>\n",
       "      <td>1.08</td>\n",
       "      <td>200000</td>\n",
       "      <td>216000.0</td>\n",
       "      <td>0.04</td>\n",
       "      <td>8640.0</td>\n",
       "    </tr>\n",
       "  </tbody>\n",
       "</table>\n",
       "<p>500 rows × 5 columns</p>\n",
       "</div>"
      ],
      "text/plain": [
       "     Pct_To_Target  Sales_Target     Sales  Commission_Rate  Commission_Amount\n",
       "0             0.97        100000   97000.0             0.03             2910.0\n",
       "1             1.03        100000  103000.0             0.04             4120.0\n",
       "2             1.14        100000  114000.0             0.04             4560.0\n",
       "3             0.94        200000  188000.0             0.03             5640.0\n",
       "4             1.06        400000  424000.0             0.04            16960.0\n",
       "..             ...           ...       ...              ...                ...\n",
       "495           1.10         75000   82500.0             0.04             3300.0\n",
       "496           1.05        100000  105000.0             0.04             4200.0\n",
       "497           0.95        500000  475000.0             0.03            14250.0\n",
       "498           1.02        200000  204000.0             0.04             8160.0\n",
       "499           1.08        200000  216000.0             0.04             8640.0\n",
       "\n",
       "[500 rows x 5 columns]"
      ]
     },
     "execution_count": 30,
     "metadata": {},
     "output_type": "execute_result"
    }
   ],
   "source": [
    "df"
   ]
  },
  {
   "cell_type": "code",
   "execution_count": 31,
   "id": "38b39920",
   "metadata": {},
   "outputs": [
    {
     "data": {
      "text/plain": [
       "2927167.5"
      ]
     },
     "execution_count": 31,
     "metadata": {},
     "output_type": "execute_result"
    }
   ],
   "source": [
    "df['Commission_Amount'].sum()"
   ]
  },
  {
   "cell_type": "code",
   "execution_count": null,
   "id": "eeb62eae",
   "metadata": {},
   "outputs": [],
   "source": []
  }
 ],
 "metadata": {
  "kernelspec": {
   "display_name": "Python 3",
   "language": "python",
   "name": "python3"
  },
  "language_info": {
   "codemirror_mode": {
    "name": "ipython",
    "version": 3
   },
   "file_extension": ".py",
   "mimetype": "text/x-python",
   "name": "python",
   "nbconvert_exporter": "python",
   "pygments_lexer": "ipython3",
   "version": "3.8.8"
  }
 },
 "nbformat": 4,
 "nbformat_minor": 5
}
