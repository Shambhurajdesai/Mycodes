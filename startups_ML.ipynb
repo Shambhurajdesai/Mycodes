{
  "nbformat": 4,
  "nbformat_minor": 0,
  "metadata": {
    "colab": {
      "provenance": [],
      "authorship_tag": "ABX9TyMiLNQkcx17mdbYV60HIuML",
      "include_colab_link": true
    },
    "kernelspec": {
      "name": "python3",
      "display_name": "Python 3"
    },
    "language_info": {
      "name": "python"
    }
  },
  "cells": [
    {
      "cell_type": "markdown",
      "metadata": {
        "id": "view-in-github",
        "colab_type": "text"
      },
      "source": [
        "<a href=\"https://colab.research.google.com/github/Shambhurajdesai/Mycodes/blob/main/startups_ML.ipynb\" target=\"_parent\"><img src=\"https://colab.research.google.com/assets/colab-badge.svg\" alt=\"Open In Colab\"/></a>"
      ]
    },
    {
      "cell_type": "code",
      "execution_count": 2,
      "metadata": {
        "id": "MQQwSGlohmAd"
      },
      "outputs": [],
      "source": [
        "import numpy as np\n",
        "import pandas as pd\n",
        "from numpy import math\n",
        "\n",
        "from sklearn.preprocessing import MinMaxScaler\n",
        "from sklearn.model_selection import train_test_split\n",
        "from sklearn.linear_model import LinearRegression\n",
        "from sklearn.metrics import r2_score\n",
        "from sklearn.metrics import mean_squared_error\n",
        "\n",
        "import matplotlib.pyplot as plt"
      ]
    },
    {
      "cell_type": "code",
      "source": [
        "from google.colab import drive\n",
        "drive.mount('/content/drive')"
      ],
      "metadata": {
        "colab": {
          "base_uri": "https://localhost:8080/"
        },
        "id": "Lp20MyHqisrC",
        "outputId": "cf80f00b-8117-429e-b553-2b9a7c6fca63"
      },
      "execution_count": 3,
      "outputs": [
        {
          "output_type": "stream",
          "name": "stdout",
          "text": [
            "Mounted at /content/drive\n"
          ]
        }
      ]
    },
    {
      "cell_type": "code",
      "source": [
        "dataset = pd.read_csv('/content/drive/MyDrive/Dataset/50_Startups.csv')\n",
        "dataset.head(5)"
      ],
      "metadata": {
        "colab": {
          "base_uri": "https://localhost:8080/",
          "height": 206
        },
        "id": "tsJx80AUzz1Z",
        "outputId": "fff36e66-b337-417c-c98d-c5af25194520"
      },
      "execution_count": 4,
      "outputs": [
        {
          "output_type": "execute_result",
          "data": {
            "text/plain": [
              "   R&D Spend  Administration  Marketing Spend       State     Profit\n",
              "0  165349.20       136897.80        471784.10    New York  192261.83\n",
              "1  162597.70       151377.59        443898.53  California  191792.06\n",
              "2  153441.51       101145.55        407934.54     Florida  191050.39\n",
              "3  144372.41       118671.85        383199.62    New York  182901.99\n",
              "4  142107.34        91391.77        366168.42     Florida  166187.94"
            ],
            "text/html": [
              "\n",
              "  <div id=\"df-dbc34e5a-2e6c-4f44-bccc-f337acdf1869\">\n",
              "    <div class=\"colab-df-container\">\n",
              "      <div>\n",
              "<style scoped>\n",
              "    .dataframe tbody tr th:only-of-type {\n",
              "        vertical-align: middle;\n",
              "    }\n",
              "\n",
              "    .dataframe tbody tr th {\n",
              "        vertical-align: top;\n",
              "    }\n",
              "\n",
              "    .dataframe thead th {\n",
              "        text-align: right;\n",
              "    }\n",
              "</style>\n",
              "<table border=\"1\" class=\"dataframe\">\n",
              "  <thead>\n",
              "    <tr style=\"text-align: right;\">\n",
              "      <th></th>\n",
              "      <th>R&amp;D Spend</th>\n",
              "      <th>Administration</th>\n",
              "      <th>Marketing Spend</th>\n",
              "      <th>State</th>\n",
              "      <th>Profit</th>\n",
              "    </tr>\n",
              "  </thead>\n",
              "  <tbody>\n",
              "    <tr>\n",
              "      <th>0</th>\n",
              "      <td>165349.20</td>\n",
              "      <td>136897.80</td>\n",
              "      <td>471784.10</td>\n",
              "      <td>New York</td>\n",
              "      <td>192261.83</td>\n",
              "    </tr>\n",
              "    <tr>\n",
              "      <th>1</th>\n",
              "      <td>162597.70</td>\n",
              "      <td>151377.59</td>\n",
              "      <td>443898.53</td>\n",
              "      <td>California</td>\n",
              "      <td>191792.06</td>\n",
              "    </tr>\n",
              "    <tr>\n",
              "      <th>2</th>\n",
              "      <td>153441.51</td>\n",
              "      <td>101145.55</td>\n",
              "      <td>407934.54</td>\n",
              "      <td>Florida</td>\n",
              "      <td>191050.39</td>\n",
              "    </tr>\n",
              "    <tr>\n",
              "      <th>3</th>\n",
              "      <td>144372.41</td>\n",
              "      <td>118671.85</td>\n",
              "      <td>383199.62</td>\n",
              "      <td>New York</td>\n",
              "      <td>182901.99</td>\n",
              "    </tr>\n",
              "    <tr>\n",
              "      <th>4</th>\n",
              "      <td>142107.34</td>\n",
              "      <td>91391.77</td>\n",
              "      <td>366168.42</td>\n",
              "      <td>Florida</td>\n",
              "      <td>166187.94</td>\n",
              "    </tr>\n",
              "  </tbody>\n",
              "</table>\n",
              "</div>\n",
              "      <button class=\"colab-df-convert\" onclick=\"convertToInteractive('df-dbc34e5a-2e6c-4f44-bccc-f337acdf1869')\"\n",
              "              title=\"Convert this dataframe to an interactive table.\"\n",
              "              style=\"display:none;\">\n",
              "        \n",
              "  <svg xmlns=\"http://www.w3.org/2000/svg\" height=\"24px\"viewBox=\"0 0 24 24\"\n",
              "       width=\"24px\">\n",
              "    <path d=\"M0 0h24v24H0V0z\" fill=\"none\"/>\n",
              "    <path d=\"M18.56 5.44l.94 2.06.94-2.06 2.06-.94-2.06-.94-.94-2.06-.94 2.06-2.06.94zm-11 1L8.5 8.5l.94-2.06 2.06-.94-2.06-.94L8.5 2.5l-.94 2.06-2.06.94zm10 10l.94 2.06.94-2.06 2.06-.94-2.06-.94-.94-2.06-.94 2.06-2.06.94z\"/><path d=\"M17.41 7.96l-1.37-1.37c-.4-.4-.92-.59-1.43-.59-.52 0-1.04.2-1.43.59L10.3 9.45l-7.72 7.72c-.78.78-.78 2.05 0 2.83L4 21.41c.39.39.9.59 1.41.59.51 0 1.02-.2 1.41-.59l7.78-7.78 2.81-2.81c.8-.78.8-2.07 0-2.86zM5.41 20L4 18.59l7.72-7.72 1.47 1.35L5.41 20z\"/>\n",
              "  </svg>\n",
              "      </button>\n",
              "      \n",
              "  <style>\n",
              "    .colab-df-container {\n",
              "      display:flex;\n",
              "      flex-wrap:wrap;\n",
              "      gap: 12px;\n",
              "    }\n",
              "\n",
              "    .colab-df-convert {\n",
              "      background-color: #E8F0FE;\n",
              "      border: none;\n",
              "      border-radius: 50%;\n",
              "      cursor: pointer;\n",
              "      display: none;\n",
              "      fill: #1967D2;\n",
              "      height: 32px;\n",
              "      padding: 0 0 0 0;\n",
              "      width: 32px;\n",
              "    }\n",
              "\n",
              "    .colab-df-convert:hover {\n",
              "      background-color: #E2EBFA;\n",
              "      box-shadow: 0px 1px 2px rgba(60, 64, 67, 0.3), 0px 1px 3px 1px rgba(60, 64, 67, 0.15);\n",
              "      fill: #174EA6;\n",
              "    }\n",
              "\n",
              "    [theme=dark] .colab-df-convert {\n",
              "      background-color: #3B4455;\n",
              "      fill: #D2E3FC;\n",
              "    }\n",
              "\n",
              "    [theme=dark] .colab-df-convert:hover {\n",
              "      background-color: #434B5C;\n",
              "      box-shadow: 0px 1px 3px 1px rgba(0, 0, 0, 0.15);\n",
              "      filter: drop-shadow(0px 1px 2px rgba(0, 0, 0, 0.3));\n",
              "      fill: #FFFFFF;\n",
              "    }\n",
              "  </style>\n",
              "\n",
              "      <script>\n",
              "        const buttonEl =\n",
              "          document.querySelector('#df-dbc34e5a-2e6c-4f44-bccc-f337acdf1869 button.colab-df-convert');\n",
              "        buttonEl.style.display =\n",
              "          google.colab.kernel.accessAllowed ? 'block' : 'none';\n",
              "\n",
              "        async function convertToInteractive(key) {\n",
              "          const element = document.querySelector('#df-dbc34e5a-2e6c-4f44-bccc-f337acdf1869');\n",
              "          const dataTable =\n",
              "            await google.colab.kernel.invokeFunction('convertToInteractive',\n",
              "                                                     [key], {});\n",
              "          if (!dataTable) return;\n",
              "\n",
              "          const docLinkHtml = 'Like what you see? Visit the ' +\n",
              "            '<a target=\"_blank\" href=https://colab.research.google.com/notebooks/data_table.ipynb>data table notebook</a>'\n",
              "            + ' to learn more about interactive tables.';\n",
              "          element.innerHTML = '';\n",
              "          dataTable['output_type'] = 'display_data';\n",
              "          await google.colab.output.renderOutput(dataTable, element);\n",
              "          const docLink = document.createElement('div');\n",
              "          docLink.innerHTML = docLinkHtml;\n",
              "          element.appendChild(docLink);\n",
              "        }\n",
              "      </script>\n",
              "    </div>\n",
              "  </div>\n",
              "  "
            ]
          },
          "metadata": {},
          "execution_count": 4
        }
      ]
    },
    {
      "cell_type": "code",
      "source": [
        "len(dataset)"
      ],
      "metadata": {
        "colab": {
          "base_uri": "https://localhost:8080/"
        },
        "id": "g4isqddC0H-5",
        "outputId": "011f5140-0edc-4f37-bc36-727015b1e64e"
      },
      "execution_count": null,
      "outputs": [
        {
          "output_type": "execute_result",
          "data": {
            "text/plain": [
              "50"
            ]
          },
          "metadata": {},
          "execution_count": 8
        }
      ]
    },
    {
      "cell_type": "code",
      "source": [
        "dataset.shape"
      ],
      "metadata": {
        "colab": {
          "base_uri": "https://localhost:8080/"
        },
        "id": "Mg7LbAtE0OVI",
        "outputId": "4db4aa9b-8428-4b75-d056-3f3b43e03fab"
      },
      "execution_count": null,
      "outputs": [
        {
          "output_type": "execute_result",
          "data": {
            "text/plain": [
              "(50, 5)"
            ]
          },
          "metadata": {},
          "execution_count": 9
        }
      ]
    },
    {
      "cell_type": "code",
      "source": [
        "dataset.size"
      ],
      "metadata": {
        "colab": {
          "base_uri": "https://localhost:8080/"
        },
        "id": "4Il87Jzv0VPm",
        "outputId": "6bc68296-5e3a-42e4-be90-e013ce3a6249"
      },
      "execution_count": null,
      "outputs": [
        {
          "output_type": "execute_result",
          "data": {
            "text/plain": [
              "250"
            ]
          },
          "metadata": {},
          "execution_count": 10
        }
      ]
    },
    {
      "cell_type": "code",
      "source": [
        "plt.scatter(dataset['Marketing Spend'],dataset['Profit'],alpha=0.199)\n",
        "plt.title('Scatter plot of Marketing Spend with Profit')\n",
        "plt.xlabel('Marketing Spend')\n",
        "plt.ylabel('Profit')\n",
        "plt.show()"
      ],
      "metadata": {
        "colab": {
          "base_uri": "https://localhost:8080/",
          "height": 295
        },
        "id": "w73aY01_0XPX",
        "outputId": "b70ca8b9-3434-405e-e017-784ffdaaa40d"
      },
      "execution_count": 9,
      "outputs": [
        {
          "output_type": "display_data",
          "data": {
            "text/plain": [
              "<Figure size 432x288 with 1 Axes>"
            ],
            "image/png": "[encoded data removed]"
          },
          "metadata": {
            "needs_background": "light"
          }
        }
      ]
    },
    {
      "cell_type": "code",
      "source": [
        "plt.scatter(dataset['R&D Spend'],dataset['Profit'],alpha=0.2)\n",
        "plt.title('Scatter plot of R&D Spend with Profit')\n",
        "plt.xlabel('Profit')\n",
        "plt.ylabel('R&D Spend')\n",
        "plt.show()"
      ],
      "metadata": {
        "colab": {
          "base_uri": "https://localhost:8080/",
          "height": 295
        },
        "id": "QX16Mcp206Gd",
        "outputId": "123c116f-8659-45e4-98ab-37c7d053658f"
      },
      "execution_count": null,
      "outputs": [
        {
          "output_type": "display_data",
          "data": {
            "text/plain": [
              "<Figure size 432x288 with 1 Axes>"
            ],
            "image/png": "[encoded data removed]"
          },
          "metadata": {
            "needs_background": "light"
          }
        }
      ]
    },
    {
      "cell_type": "code",
      "source": [
        "plt.scatter(dataset['Administration'],dataset['Profit'],alpha=0.89)\n",
        "plt.title('Scatter plot of Administration with Profit')\n",
        "plt.xlabel('Administration')\n",
        "plt.ylabel('Profit')"
      ],
      "metadata": {
        "colab": {
          "base_uri": "https://localhost:8080/",
          "height": 313
        },
        "id": "XMjH3wpR1mvE",
        "outputId": "de99a03f-689e-4a88-ee37-1715fcf91a29"
      },
      "execution_count": null,
      "outputs": [
        {
          "output_type": "execute_result",
          "data": {
            "text/plain": [
              "Text(0, 0.5, 'Profit')"
            ]
          },
          "metadata": {},
          "execution_count": 14
        },
        {
          "output_type": "display_data",
          "data": {
            "text/plain": [
              "<Figure size 432x288 with 1 Axes>"
            ],
            "image/png": "[encoded data removed]"
          },
          "metadata": {
            "needs_background": "light"
          }
        }
      ]
    },
    {
      "cell_type": "code",
      "source": [
        "ax = dataset.groupby(dataset['State'])['Profit'].mean().plot.bar(\n",
        "    figsize=(10,5),\n",
        "    fontsize=15\n",
        ")\n",
        "\n",
        "ax.set_title('Average profits for different states where startups operate', fontsize = 20)\n",
        "ax.set_xlabel('State',fontsize = 15)\n",
        "ax.set_ylabel('Profit',fontsize = 15)"
      ],
      "metadata": {
        "colab": {
          "base_uri": "https://localhost:8080/",
          "height": 440
        },
        "id": "48Wy3oTa2ua9",
        "outputId": "af9bd202-a6b4-47c8-ad51-b0113cdf4246"
      },
      "execution_count": 10,
      "outputs": [
        {
          "output_type": "execute_result",
          "data": {
            "text/plain": [
              "Text(0, 0.5, 'Profit')"
            ]
          },
          "metadata": {},
          "execution_count": 10
        },
        {
          "output_type": "display_data",
          "data": {
            "text/plain": [
              "<Figure size 720x360 with 1 Axes>"
            ],
            "image/png": "[encoded data removed]"
          },
          "metadata": {
            "needs_background": "light"
          }
        }
      ]
    },
    {
      "cell_type": "code",
      "source": [
        "dataset.State.value_counts()"
      ],
      "metadata": {
        "colab": {
          "base_uri": "https://localhost:8080/"
        },
        "id": "svVuIEMf4NLW",
        "outputId": "ea479f09-54d8-4663-ecd7-7ecc6a04d14c"
      },
      "execution_count": null,
      "outputs": [
        {
          "output_type": "execute_result",
          "data": {
            "text/plain": [
              "New York      17\n",
              "California    17\n",
              "Florida       16\n",
              "Name: State, dtype: int64"
            ]
          },
          "metadata": {},
          "execution_count": 21
        }
      ]
    },
    {
      "cell_type": "code",
      "source": [
        "dataset['NewYork_state'] = np.where(dataset['State']=='New York',1,0)\n",
        "\n",
        "#pd.get_dummies()"
      ],
      "metadata": {
        "id": "97yIXjXt7DVO"
      },
      "execution_count": 11,
      "outputs": []
    },
    {
      "cell_type": "code",
      "source": [
        "dataset['NewYork_state'] = np.where(dataset['State']=='New York',1,0)\n",
        "dataset['California_state'] = np.where(dataset['State']=='California',1,0)\n",
        "dataset['Florida_state'] = np.where(dataset['State']=='Florida',1,0)\n",
        "\n",
        "\n",
        "dataset.drop(columns=['State'],axis=1,inplace=True)\n",
        "# pd.get_dummies(dataset,columns=['State']).head(5)"
      ],
      "metadata": {
        "id": "O2KRynSP7uxd"
      },
      "execution_count": 12,
      "outputs": []
    },
    {
      "cell_type": "code",
      "source": [
        "dataset.head(5)"
      ],
      "metadata": {
        "colab": {
          "base_uri": "https://localhost:8080/",
          "height": 206
        },
        "id": "B7JkPy3XIPHM",
        "outputId": "d5b8a5b4-b5e8-4868-9ac9-a9df1f6e48ed"
      },
      "execution_count": null,
      "outputs": [
        {
          "output_type": "execute_result",
          "data": {
            "text/plain": [
              "   R&D Spend  Administration  Marketing Spend     Profit  NewYork_state  \\\n",
              "0  165349.20       136897.80        471784.10  192261.83              1   \n",
              "1  162597.70       151377.59        443898.53  191792.06              0   \n",
              "2  153441.51       101145.55        407934.54  191050.39              0   \n",
              "3  144372.41       118671.85        383199.62  182901.99              1   \n",
              "4  142107.34        91391.77        366168.42  166187.94              0   \n",
              "\n",
              "   California_state  Florida_state  \n",
              "0                 0              0  \n",
              "1                 1              0  \n",
              "2                 0              1  \n",
              "3                 0              0  \n",
              "4                 0              1  "
            ],
            "text/html": [
              "\n",
              "  <div id=\"df-29ec2fb9-5cac-444a-a9ad-a43773b453dd\">\n",
              "    <div class=\"colab-df-container\">\n",
              "      <div>\n",
              "<style scoped>\n",
              "    .dataframe tbody tr th:only-of-type {\n",
              "        vertical-align: middle;\n",
              "    }\n",
              "\n",
              "    .dataframe tbody tr th {\n",
              "        vertical-align: top;\n",
              "    }\n",
              "\n",
              "    .dataframe thead th {\n",
              "        text-align: right;\n",
              "    }\n",
              "</style>\n",
              "<table border=\"1\" class=\"dataframe\">\n",
              "  <thead>\n",
              "    <tr style=\"text-align: right;\">\n",
              "      <th></th>\n",
              "      <th>R&amp;D Spend</th>\n",
              "      <th>Administration</th>\n",
              "      <th>Marketing Spend</th>\n",
              "      <th>Profit</th>\n",
              "      <th>NewYork_state</th>\n",
              "      <th>California_state</th>\n",
              "      <th>Florida_state</th>\n",
              "    </tr>\n",
              "  </thead>\n",
              "  <tbody>\n",
              "    <tr>\n",
              "      <th>0</th>\n",
              "      <td>165349.20</td>\n",
              "      <td>136897.80</td>\n",
              "      <td>471784.10</td>\n",
              "      <td>192261.83</td>\n",
              "      <td>1</td>\n",
              "      <td>0</td>\n",
              "      <td>0</td>\n",
              "    </tr>\n",
              "    <tr>\n",
              "      <th>1</th>\n",
              "      <td>162597.70</td>\n",
              "      <td>151377.59</td>\n",
              "      <td>443898.53</td>\n",
              "      <td>191792.06</td>\n",
              "      <td>0</td>\n",
              "      <td>1</td>\n",
              "      <td>0</td>\n",
              "    </tr>\n",
              "    <tr>\n",
              "      <th>2</th>\n",
              "      <td>153441.51</td>\n",
              "      <td>101145.55</td>\n",
              "      <td>407934.54</td>\n",
              "      <td>191050.39</td>\n",
              "      <td>0</td>\n",
              "      <td>0</td>\n",
              "      <td>1</td>\n",
              "    </tr>\n",
              "    <tr>\n",
              "      <th>3</th>\n",
              "      <td>144372.41</td>\n",
              "      <td>118671.85</td>\n",
              "      <td>383199.62</td>\n",
              "      <td>182901.99</td>\n",
              "      <td>1</td>\n",
              "      <td>0</td>\n",
              "      <td>0</td>\n",
              "    </tr>\n",
              "    <tr>\n",
              "      <th>4</th>\n",
              "      <td>142107.34</td>\n",
              "      <td>91391.77</td>\n",
              "      <td>366168.42</td>\n",
              "      <td>166187.94</td>\n",
              "      <td>0</td>\n",
              "      <td>0</td>\n",
              "      <td>1</td>\n",
              "    </tr>\n",
              "  </tbody>\n",
              "</table>\n",
              "</div>\n",
              "      <button class=\"colab-df-convert\" onclick=\"convertToInteractive('df-29ec2fb9-5cac-444a-a9ad-a43773b453dd')\"\n",
              "              title=\"Convert this dataframe to an interactive table.\"\n",
              "              style=\"display:none;\">\n",
              "        \n",
              "  <svg xmlns=\"http://www.w3.org/2000/svg\" height=\"24px\"viewBox=\"0 0 24 24\"\n",
              "       width=\"24px\">\n",
              "    <path d=\"M0 0h24v24H0V0z\" fill=\"none\"/>\n",
              "    <path d=\"M18.56 5.44l.94 2.06.94-2.06 2.06-.94-2.06-.94-.94-2.06-.94 2.06-2.06.94zm-11 1L8.5 8.5l.94-2.06 2.06-.94-2.06-.94L8.5 2.5l-.94 2.06-2.06.94zm10 10l.94 2.06.94-2.06 2.06-.94-2.06-.94-.94-2.06-.94 2.06-2.06.94z\"/><path d=\"M17.41 7.96l-1.37-1.37c-.4-.4-.92-.59-1.43-.59-.52 0-1.04.2-1.43.59L10.3 9.45l-7.72 7.72c-.78.78-.78 2.05 0 2.83L4 21.41c.39.39.9.59 1.41.59.51 0 1.02-.2 1.41-.59l7.78-7.78 2.81-2.81c.8-.78.8-2.07 0-2.86zM5.41 20L4 18.59l7.72-7.72 1.47 1.35L5.41 20z\"/>\n",
              "  </svg>\n",
              "      </button>\n",
              "      \n",
              "  <style>\n",
              "    .colab-df-container {\n",
              "      display:flex;\n",
              "      flex-wrap:wrap;\n",
              "      gap: 12px;\n",
              "    }\n",
              "\n",
              "    .colab-df-convert {\n",
              "      background-color: #E8F0FE;\n",
              "      border: none;\n",
              "      border-radius: 50%;\n",
              "      cursor: pointer;\n",
              "      display: none;\n",
              "      fill: #1967D2;\n",
              "      height: 32px;\n",
              "      padding: 0 0 0 0;\n",
              "      width: 32px;\n",
              "    }\n",
              "\n",
              "    .colab-df-convert:hover {\n",
              "      background-color: #E2EBFA;\n",
              "      box-shadow: 0px 1px 2px rgba(60, 64, 67, 0.3), 0px 1px 3px 1px rgba(60, 64, 67, 0.15);\n",
              "      fill: #174EA6;\n",
              "    }\n",
              "\n",
              "    [theme=dark] .colab-df-convert {\n",
              "      background-color: #3B4455;\n",
              "      fill: #D2E3FC;\n",
              "    }\n",
              "\n",
              "    [theme=dark] .colab-df-convert:hover {\n",
              "      background-color: #434B5C;\n",
              "      box-shadow: 0px 1px 3px 1px rgba(0, 0, 0, 0.15);\n",
              "      filter: drop-shadow(0px 1px 2px rgba(0, 0, 0, 0.3));\n",
              "      fill: #FFFFFF;\n",
              "    }\n",
              "  </style>\n",
              "\n",
              "      <script>\n",
              "        const buttonEl =\n",
              "          document.querySelector('#df-29ec2fb9-5cac-444a-a9ad-a43773b453dd button.colab-df-convert');\n",
              "        buttonEl.style.display =\n",
              "          google.colab.kernel.accessAllowed ? 'block' : 'none';\n",
              "\n",
              "        async function convertToInteractive(key) {\n",
              "          const element = document.querySelector('#df-29ec2fb9-5cac-444a-a9ad-a43773b453dd');\n",
              "          const dataTable =\n",
              "            await google.colab.kernel.invokeFunction('convertToInteractive',\n",
              "                                                     [key], {});\n",
              "          if (!dataTable) return;\n",
              "\n",
              "          const docLinkHtml = 'Like what you see? Visit the ' +\n",
              "            '<a target=\"_blank\" href=https://colab.research.google.com/notebooks/data_table.ipynb>data table notebook</a>'\n",
              "            + ' to learn more about interactive tables.';\n",
              "          element.innerHTML = '';\n",
              "          dataTable['output_type'] = 'display_data';\n",
              "          await google.colab.output.renderOutput(dataTable, element);\n",
              "          const docLink = document.createElement('div');\n",
              "          docLink.innerHTML = docLinkHtml;\n",
              "          element.appendChild(docLink);\n",
              "        }\n",
              "      </script>\n",
              "    </div>\n",
              "  </div>\n",
              "  "
            ]
          },
          "metadata": {},
          "execution_count": 42
        }
      ]
    },
    {
      "cell_type": "code",
      "source": [
        "dependent_var = 'Profit'"
      ],
      "metadata": {
        "id": "qiE4gk_m7wzu"
      },
      "execution_count": 13,
      "outputs": []
    },
    {
      "cell_type": "code",
      "source": [],
      "metadata": {
        "id": "VxTaxdqyIOPS"
      },
      "execution_count": null,
      "outputs": []
    },
    {
      "cell_type": "code",
      "source": [
        "independent_var = list(set(dataset.columns.tolist()) - {dependent_var})"
      ],
      "metadata": {
        "id": "K1Jhrxf-Blrs"
      },
      "execution_count": 14,
      "outputs": []
    },
    {
      "cell_type": "code",
      "source": [
        "independent_var"
      ],
      "metadata": {
        "colab": {
          "base_uri": "https://localhost:8080/"
        },
        "id": "reEXsQ0JB4po",
        "outputId": "cc1a3c1f-c5ca-4a54-c199-b1f7cb3e0cc6"
      },
      "execution_count": 15,
      "outputs": [
        {
          "output_type": "execute_result",
          "data": {
            "text/plain": [
              "['California_state',\n",
              " 'NewYork_state',\n",
              " 'R&D Spend',\n",
              " 'Florida_state',\n",
              " 'Marketing Spend',\n",
              " 'Administration']"
            ]
          },
          "metadata": {},
          "execution_count": 15
        }
      ]
    },
    {
      "cell_type": "code",
      "source": [
        "X = dataset[independent_var].values\n",
        "\n",
        "Y = dataset[dependent_var].values"
      ],
      "metadata": {
        "id": "rqBf4duZCV1d"
      },
      "execution_count": 16,
      "outputs": []
    },
    {
      "cell_type": "code",
      "source": [
        "dataset[independent_var]"
      ],
      "metadata": {
        "colab": {
          "base_uri": "https://localhost:8080/",
          "height": 1000
        },
        "id": "JV9A-4HfCjjq",
        "outputId": "6c13d290-fce3-4d05-c878-26fc06dbb71d"
      },
      "execution_count": 17,
      "outputs": [
        {
          "output_type": "execute_result",
          "data": {
            "text/plain": [
              "    California_state  NewYork_state  R&D Spend  Florida_state  \\\n",
              "0                  0              1  165349.20              0   \n",
              "1                  1              0  162597.70              0   \n",
              "2                  0              0  153441.51              1   \n",
              "3                  0              1  144372.41              0   \n",
              "4                  0              0  142107.34              1   \n",
              "5                  0              1  131876.90              0   \n",
              "6                  1              0  134615.46              0   \n",
              "7                  0              0  130298.13              1   \n",
              "8                  0              1  120542.52              0   \n",
              "9                  1              0  123334.88              0   \n",
              "10                 0              0  101913.08              1   \n",
              "11                 1              0  100671.96              0   \n",
              "12                 0              0   93863.75              1   \n",
              "13                 1              0   91992.39              0   \n",
              "14                 0              0  119943.24              1   \n",
              "15                 0              1  114523.61              0   \n",
              "16                 1              0   78013.11              0   \n",
              "17                 0              1   94657.16              0   \n",
              "18                 0              0   91749.16              1   \n",
              "19                 0              1   86419.70              0   \n",
              "20                 1              0   76253.86              0   \n",
              "21                 0              1   78389.47              0   \n",
              "22                 0              0   73994.56              1   \n",
              "23                 0              0   67532.53              1   \n",
              "24                 0              1   77044.01              0   \n",
              "25                 1              0   64664.71              0   \n",
              "26                 0              0   75328.87              1   \n",
              "27                 0              1   72107.60              0   \n",
              "28                 0              0   66051.52              1   \n",
              "29                 0              1   65605.48              0   \n",
              "30                 0              0   61994.48              1   \n",
              "31                 0              1   61136.38              0   \n",
              "32                 1              0   63408.86              0   \n",
              "33                 0              0   55493.95              1   \n",
              "34                 1              0   46426.07              0   \n",
              "35                 0              1   46014.02              0   \n",
              "36                 0              0   28663.76              1   \n",
              "37                 1              0   44069.95              0   \n",
              "38                 0              1   20229.59              0   \n",
              "39                 1              0   38558.51              0   \n",
              "40                 1              0   28754.33              0   \n",
              "41                 0              0   27892.92              1   \n",
              "42                 1              0   23640.93              0   \n",
              "43                 0              1   15505.73              0   \n",
              "44                 1              0   22177.74              0   \n",
              "45                 0              1    1000.23              0   \n",
              "46                 0              0    1315.46              1   \n",
              "47                 1              0       0.00              0   \n",
              "48                 0              1     542.05              0   \n",
              "49                 1              0       0.00              0   \n",
              "\n",
              "    Marketing Spend  Administration  \n",
              "0         471784.10       136897.80  \n",
              "1         443898.53       151377.59  \n",
              "2         407934.54       101145.55  \n",
              "3         383199.62       118671.85  \n",
              "4         366168.42        91391.77  \n",
              "5         362861.36        99814.71  \n",
              "6         127716.82       147198.87  \n",
              "7         323876.68       145530.06  \n",
              "8         311613.29       148718.95  \n",
              "9         304981.62       108679.17  \n",
              "10        229160.95       110594.11  \n",
              "11        249744.55        91790.61  \n",
              "12        249839.44       127320.38  \n",
              "13        252664.93       135495.07  \n",
              "14        256512.92       156547.42  \n",
              "15        261776.23       122616.84  \n",
              "16        264346.06       121597.55  \n",
              "17        282574.31       145077.58  \n",
              "18        294919.57       114175.79  \n",
              "19             0.00       153514.11  \n",
              "20        298664.47       113867.30  \n",
              "21        299737.29       153773.43  \n",
              "22        303319.26       122782.75  \n",
              "23        304768.73       105751.03  \n",
              "24        140574.81        99281.34  \n",
              "25        137962.62       139553.16  \n",
              "26        134050.07       144135.98  \n",
              "27        353183.81       127864.55  \n",
              "28        118148.20       182645.56  \n",
              "29        107138.38       153032.06  \n",
              "30         91131.24       115641.28  \n",
              "31         88218.23       152701.92  \n",
              "32         46085.25       129219.61  \n",
              "33        214634.81       103057.49  \n",
              "34        210797.67       157693.92  \n",
              "35        205517.64        85047.44  \n",
              "36        201126.82       127056.21  \n",
              "37        197029.42        51283.14  \n",
              "38        185265.10        65947.93  \n",
              "39        174999.30        82982.09  \n",
              "40        172795.67       118546.05  \n",
              "41        164470.71        84710.77  \n",
              "42        148001.11        96189.63  \n",
              "43         35534.17       127382.30  \n",
              "44         28334.72       154806.14  \n",
              "45          1903.93       124153.04  \n",
              "46        297114.46       115816.21  \n",
              "47             0.00       135426.92  \n",
              "48             0.00        51743.15  \n",
              "49         45173.06       116983.80  "
            ],
            "text/html": [
              "\n",
              "  <div id=\"df-2c229fbe-7c61-4842-973f-3538872c2d78\">\n",
              "    <div class=\"colab-df-container\">\n",
              "      <div>\n",
              "<style scoped>\n",
              "    .dataframe tbody tr th:only-of-type {\n",
              "        vertical-align: middle;\n",
              "    }\n",
              "\n",
              "    .dataframe tbody tr th {\n",
              "        vertical-align: top;\n",
              "    }\n",
              "\n",
              "    .dataframe thead th {\n",
              "        text-align: right;\n",
              "    }\n",
              "</style>\n",
              "<table border=\"1\" class=\"dataframe\">\n",
              "  <thead>\n",
              "    <tr style=\"text-align: right;\">\n",
              "      <th></th>\n",
              "      <th>California_state</th>\n",
              "      <th>NewYork_state</th>\n",
              "      <th>R&amp;D Spend</th>\n",
              "      <th>Florida_state</th>\n",
              "      <th>Marketing Spend</th>\n",
              "      <th>Administration</th>\n",
              "    </tr>\n",
              "  </thead>\n",
              "  <tbody>\n",
              "    <tr>\n",
              "      <th>0</th>\n",
              "      <td>0</td>\n",
              "      <td>1</td>\n",
              "      <td>165349.20</td>\n",
              "      <td>0</td>\n",
              "      <td>471784.10</td>\n",
              "      <td>136897.80</td>\n",
              "    </tr>\n",
              "    <tr>\n",
              "      <th>1</th>\n",
              "      <td>1</td>\n",
              "      <td>0</td>\n",
              "      <td>162597.70</td>\n",
              "      <td>0</td>\n",
              "      <td>443898.53</td>\n",
              "      <td>151377.59</td>\n",
              "    </tr>\n",
              "    <tr>\n",
              "      <th>2</th>\n",
              "      <td>0</td>\n",
              "      <td>0</td>\n",
              "      <td>153441.51</td>\n",
              "      <td>1</td>\n",
              "      <td>407934.54</td>\n",
              "      <td>101145.55</td>\n",
              "    </tr>\n",
              "    <tr>\n",
              "      <th>3</th>\n",
              "      <td>0</td>\n",
              "      <td>1</td>\n",
              "      <td>144372.41</td>\n",
              "      <td>0</td>\n",
              "      <td>383199.62</td>\n",
              "      <td>118671.85</td>\n",
              "    </tr>\n",
              "    <tr>\n",
              "      <th>4</th>\n",
              "      <td>0</td>\n",
              "      <td>0</td>\n",
              "      <td>142107.34</td>\n",
              "      <td>1</td>\n",
              "      <td>366168.42</td>\n",
              "      <td>91391.77</td>\n",
              "    </tr>\n",
              "    <tr>\n",
              "      <th>5</th>\n",
              "      <td>0</td>\n",
              "      <td>1</td>\n",
              "      <td>131876.90</td>\n",
              "      <td>0</td>\n",
              "      <td>362861.36</td>\n",
              "      <td>99814.71</td>\n",
              "    </tr>\n",
              "    <tr>\n",
              "      <th>6</th>\n",
              "      <td>1</td>\n",
              "      <td>0</td>\n",
              "      <td>134615.46</td>\n",
              "      <td>0</td>\n",
              "      <td>127716.82</td>\n",
              "      <td>147198.87</td>\n",
              "    </tr>\n",
              "    <tr>\n",
              "      <th>7</th>\n",
              "      <td>0</td>\n",
              "      <td>0</td>\n",
              "      <td>130298.13</td>\n",
              "      <td>1</td>\n",
              "      <td>323876.68</td>\n",
              "      <td>145530.06</td>\n",
              "    </tr>\n",
              "    <tr>\n",
              "      <th>8</th>\n",
              "      <td>0</td>\n",
              "      <td>1</td>\n",
              "      <td>120542.52</td>\n",
              "      <td>0</td>\n",
              "      <td>311613.29</td>\n",
              "      <td>148718.95</td>\n",
              "    </tr>\n",
              "    <tr>\n",
              "      <th>9</th>\n",
              "      <td>1</td>\n",
              "      <td>0</td>\n",
              "      <td>123334.88</td>\n",
              "      <td>0</td>\n",
              "      <td>304981.62</td>\n",
              "      <td>108679.17</td>\n",
              "    </tr>\n",
              "    <tr>\n",
              "      <th>10</th>\n",
              "      <td>0</td>\n",
              "      <td>0</td>\n",
              "      <td>101913.08</td>\n",
              "      <td>1</td>\n",
              "      <td>229160.95</td>\n",
              "      <td>110594.11</td>\n",
              "    </tr>\n",
              "    <tr>\n",
              "      <th>11</th>\n",
              "      <td>1</td>\n",
              "      <td>0</td>\n",
              "      <td>100671.96</td>\n",
              "      <td>0</td>\n",
              "      <td>249744.55</td>\n",
              "      <td>91790.61</td>\n",
              "    </tr>\n",
              "    <tr>\n",
              "      <th>12</th>\n",
              "      <td>0</td>\n",
              "      <td>0</td>\n",
              "      <td>93863.75</td>\n",
              "      <td>1</td>\n",
              "      <td>249839.44</td>\n",
              "      <td>127320.38</td>\n",
              "    </tr>\n",
              "    <tr>\n",
              "      <th>13</th>\n",
              "      <td>1</td>\n",
              "      <td>0</td>\n",
              "      <td>91992.39</td>\n",
              "      <td>0</td>\n",
              "      <td>252664.93</td>\n",
              "      <td>135495.07</td>\n",
              "    </tr>\n",
              "    <tr>\n",
              "      <th>14</th>\n",
              "      <td>0</td>\n",
              "      <td>0</td>\n",
              "      <td>119943.24</td>\n",
              "      <td>1</td>\n",
              "      <td>256512.92</td>\n",
              "      <td>156547.42</td>\n",
              "    </tr>\n",
              "    <tr>\n",
              "      <th>15</th>\n",
              "      <td>0</td>\n",
              "      <td>1</td>\n",
              "      <td>114523.61</td>\n",
              "      <td>0</td>\n",
              "      <td>261776.23</td>\n",
              "      <td>122616.84</td>\n",
              "    </tr>\n",
              "    <tr>\n",
              "      <th>16</th>\n",
              "      <td>1</td>\n",
              "      <td>0</td>\n",
              "      <td>78013.11</td>\n",
              "      <td>0</td>\n",
              "      <td>264346.06</td>\n",
              "      <td>121597.55</td>\n",
              "    </tr>\n",
              "    <tr>\n",
              "      <th>17</th>\n",
              "      <td>0</td>\n",
              "      <td>1</td>\n",
              "      <td>94657.16</td>\n",
              "      <td>0</td>\n",
              "      <td>282574.31</td>\n",
              "      <td>145077.58</td>\n",
              "    </tr>\n",
              "    <tr>\n",
              "      <th>18</th>\n",
              "      <td>0</td>\n",
              "      <td>0</td>\n",
              "      <td>91749.16</td>\n",
              "      <td>1</td>\n",
              "      <td>294919.57</td>\n",
              "      <td>114175.79</td>\n",
              "    </tr>\n",
              "    <tr>\n",
              "      <th>19</th>\n",
              "      <td>0</td>\n",
              "      <td>1</td>\n",
              "      <td>86419.70</td>\n",
              "      <td>0</td>\n",
              "      <td>0.00</td>\n",
              "      <td>153514.11</td>\n",
              "    </tr>\n",
              "    <tr>\n",
              "      <th>20</th>\n",
              "      <td>1</td>\n",
              "      <td>0</td>\n",
              "      <td>76253.86</td>\n",
              "      <td>0</td>\n",
              "      <td>298664.47</td>\n",
              "      <td>113867.30</td>\n",
              "    </tr>\n",
              "    <tr>\n",
              "      <th>21</th>\n",
              "      <td>0</td>\n",
              "      <td>1</td>\n",
              "      <td>78389.47</td>\n",
              "      <td>0</td>\n",
              "      <td>299737.29</td>\n",
              "      <td>153773.43</td>\n",
              "    </tr>\n",
              "    <tr>\n",
              "      <th>22</th>\n",
              "      <td>0</td>\n",
              "      <td>0</td>\n",
              "      <td>73994.56</td>\n",
              "      <td>1</td>\n",
              "      <td>303319.26</td>\n",
              "      <td>122782.75</td>\n",
              "    </tr>\n",
              "    <tr>\n",
              "      <th>23</th>\n",
              "      <td>0</td>\n",
              "      <td>0</td>\n",
              "      <td>67532.53</td>\n",
              "      <td>1</td>\n",
              "      <td>304768.73</td>\n",
              "      <td>105751.03</td>\n",
              "    </tr>\n",
              "    <tr>\n",
              "      <th>24</th>\n",
              "      <td>0</td>\n",
              "      <td>1</td>\n",
              "      <td>77044.01</td>\n",
              "      <td>0</td>\n",
              "      <td>140574.81</td>\n",
              "      <td>99281.34</td>\n",
              "    </tr>\n",
              "    <tr>\n",
              "      <th>25</th>\n",
              "      <td>1</td>\n",
              "      <td>0</td>\n",
              "      <td>64664.71</td>\n",
              "      <td>0</td>\n",
              "      <td>137962.62</td>\n",
              "      <td>139553.16</td>\n",
              "    </tr>\n",
              "    <tr>\n",
              "      <th>26</th>\n",
              "      <td>0</td>\n",
              "      <td>0</td>\n",
              "      <td>75328.87</td>\n",
              "      <td>1</td>\n",
              "      <td>134050.07</td>\n",
              "      <td>144135.98</td>\n",
              "    </tr>\n",
              "    <tr>\n",
              "      <th>27</th>\n",
              "      <td>0</td>\n",
              "      <td>1</td>\n",
              "      <td>72107.60</td>\n",
              "      <td>0</td>\n",
              "      <td>353183.81</td>\n",
              "      <td>127864.55</td>\n",
              "    </tr>\n",
              "    <tr>\n",
              "      <th>28</th>\n",
              "      <td>0</td>\n",
              "      <td>0</td>\n",
              "      <td>66051.52</td>\n",
              "      <td>1</td>\n",
              "      <td>118148.20</td>\n",
              "      <td>182645.56</td>\n",
              "    </tr>\n",
              "    <tr>\n",
              "      <th>29</th>\n",
              "      <td>0</td>\n",
              "      <td>1</td>\n",
              "      <td>65605.48</td>\n",
              "      <td>0</td>\n",
              "      <td>107138.38</td>\n",
              "      <td>153032.06</td>\n",
              "    </tr>\n",
              "    <tr>\n",
              "      <th>30</th>\n",
              "      <td>0</td>\n",
              "      <td>0</td>\n",
              "      <td>61994.48</td>\n",
              "      <td>1</td>\n",
              "      <td>91131.24</td>\n",
              "      <td>115641.28</td>\n",
              "    </tr>\n",
              "    <tr>\n",
              "      <th>31</th>\n",
              "      <td>0</td>\n",
              "      <td>1</td>\n",
              "      <td>61136.38</td>\n",
              "      <td>0</td>\n",
              "      <td>88218.23</td>\n",
              "      <td>152701.92</td>\n",
              "    </tr>\n",
              "    <tr>\n",
              "      <th>32</th>\n",
              "      <td>1</td>\n",
              "      <td>0</td>\n",
              "      <td>63408.86</td>\n",
              "      <td>0</td>\n",
              "      <td>46085.25</td>\n",
              "      <td>129219.61</td>\n",
              "    </tr>\n",
              "    <tr>\n",
              "      <th>33</th>\n",
              "      <td>0</td>\n",
              "      <td>0</td>\n",
              "      <td>55493.95</td>\n",
              "      <td>1</td>\n",
              "      <td>214634.81</td>\n",
              "      <td>103057.49</td>\n",
              "    </tr>\n",
              "    <tr>\n",
              "      <th>34</th>\n",
              "      <td>1</td>\n",
              "      <td>0</td>\n",
              "      <td>46426.07</td>\n",
              "      <td>0</td>\n",
              "      <td>210797.67</td>\n",
              "      <td>157693.92</td>\n",
              "    </tr>\n",
              "    <tr>\n",
              "      <th>35</th>\n",
              "      <td>0</td>\n",
              "      <td>1</td>\n",
              "      <td>46014.02</td>\n",
              "      <td>0</td>\n",
              "      <td>205517.64</td>\n",
              "      <td>85047.44</td>\n",
              "    </tr>\n",
              "    <tr>\n",
              "      <th>36</th>\n",
              "      <td>0</td>\n",
              "      <td>0</td>\n",
              "      <td>28663.76</td>\n",
              "      <td>1</td>\n",
              "      <td>201126.82</td>\n",
              "      <td>127056.21</td>\n",
              "    </tr>\n",
              "    <tr>\n",
              "      <th>37</th>\n",
              "      <td>1</td>\n",
              "      <td>0</td>\n",
              "      <td>44069.95</td>\n",
              "      <td>0</td>\n",
              "      <td>197029.42</td>\n",
              "      <td>51283.14</td>\n",
              "    </tr>\n",
              "    <tr>\n",
              "      <th>38</th>\n",
              "      <td>0</td>\n",
              "      <td>1</td>\n",
              "      <td>20229.59</td>\n",
              "      <td>0</td>\n",
              "      <td>185265.10</td>\n",
              "      <td>65947.93</td>\n",
              "    </tr>\n",
              "    <tr>\n",
              "      <th>39</th>\n",
              "      <td>1</td>\n",
              "      <td>0</td>\n",
              "      <td>38558.51</td>\n",
              "      <td>0</td>\n",
              "      <td>174999.30</td>\n",
              "      <td>82982.09</td>\n",
              "    </tr>\n",
              "    <tr>\n",
              "      <th>40</th>\n",
              "      <td>1</td>\n",
              "      <td>0</td>\n",
              "      <td>28754.33</td>\n",
              "      <td>0</td>\n",
              "      <td>172795.67</td>\n",
              "      <td>118546.05</td>\n",
              "    </tr>\n",
              "    <tr>\n",
              "      <th>41</th>\n",
              "      <td>0</td>\n",
              "      <td>0</td>\n",
              "      <td>27892.92</td>\n",
              "      <td>1</td>\n",
              "      <td>164470.71</td>\n",
              "      <td>84710.77</td>\n",
              "    </tr>\n",
              "    <tr>\n",
              "      <th>42</th>\n",
              "      <td>1</td>\n",
              "      <td>0</td>\n",
              "      <td>23640.93</td>\n",
              "      <td>0</td>\n",
              "      <td>148001.11</td>\n",
              "      <td>96189.63</td>\n",
              "    </tr>\n",
              "    <tr>\n",
              "      <th>43</th>\n",
              "      <td>0</td>\n",
              "      <td>1</td>\n",
              "      <td>15505.73</td>\n",
              "      <td>0</td>\n",
              "      <td>35534.17</td>\n",
              "      <td>127382.30</td>\n",
              "    </tr>\n",
              "    <tr>\n",
              "      <th>44</th>\n",
              "      <td>1</td>\n",
              "      <td>0</td>\n",
              "      <td>22177.74</td>\n",
              "      <td>0</td>\n",
              "      <td>28334.72</td>\n",
              "      <td>154806.14</td>\n",
              "    </tr>\n",
              "    <tr>\n",
              "      <th>45</th>\n",
              "      <td>0</td>\n",
              "      <td>1</td>\n",
              "      <td>1000.23</td>\n",
              "      <td>0</td>\n",
              "      <td>1903.93</td>\n",
              "      <td>124153.04</td>\n",
              "    </tr>\n",
              "    <tr>\n",
              "      <th>46</th>\n",
              "      <td>0</td>\n",
              "      <td>0</td>\n",
              "      <td>1315.46</td>\n",
              "      <td>1</td>\n",
              "      <td>297114.46</td>\n",
              "      <td>115816.21</td>\n",
              "    </tr>\n",
              "    <tr>\n",
              "      <th>47</th>\n",
              "      <td>1</td>\n",
              "      <td>0</td>\n",
              "      <td>0.00</td>\n",
              "      <td>0</td>\n",
              "      <td>0.00</td>\n",
              "      <td>135426.92</td>\n",
              "    </tr>\n",
              "    <tr>\n",
              "      <th>48</th>\n",
              "      <td>0</td>\n",
              "      <td>1</td>\n",
              "      <td>542.05</td>\n",
              "      <td>0</td>\n",
              "      <td>0.00</td>\n",
              "      <td>51743.15</td>\n",
              "    </tr>\n",
              "    <tr>\n",
              "      <th>49</th>\n",
              "      <td>1</td>\n",
              "      <td>0</td>\n",
              "      <td>0.00</td>\n",
              "      <td>0</td>\n",
              "      <td>45173.06</td>\n",
              "      <td>116983.80</td>\n",
              "    </tr>\n",
              "  </tbody>\n",
              "</table>\n",
              "</div>\n",
              "      <button class=\"colab-df-convert\" onclick=\"convertToInteractive('df-2c229fbe-7c61-4842-973f-3538872c2d78')\"\n",
              "              title=\"Convert this dataframe to an interactive table.\"\n",
              "              style=\"display:none;\">\n",
              "        \n",
              "  <svg xmlns=\"http://www.w3.org/2000/svg\" height=\"24px\"viewBox=\"0 0 24 24\"\n",
              "       width=\"24px\">\n",
              "    <path d=\"M0 0h24v24H0V0z\" fill=\"none\"/>\n",
              "    <path d=\"M18.56 5.44l.94 2.06.94-2.06 2.06-.94-2.06-.94-.94-2.06-.94 2.06-2.06.94zm-11 1L8.5 8.5l.94-2.06 2.06-.94-2.06-.94L8.5 2.5l-.94 2.06-2.06.94zm10 10l.94 2.06.94-2.06 2.06-.94-2.06-.94-.94-2.06-.94 2.06-2.06.94z\"/><path d=\"M17.41 7.96l-1.37-1.37c-.4-.4-.92-.59-1.43-.59-.52 0-1.04.2-1.43.59L10.3 9.45l-7.72 7.72c-.78.78-.78 2.05 0 2.83L4 21.41c.39.39.9.59 1.41.59.51 0 1.02-.2 1.41-.59l7.78-7.78 2.81-2.81c.8-.78.8-2.07 0-2.86zM5.41 20L4 18.59l7.72-7.72 1.47 1.35L5.41 20z\"/>\n",
              "  </svg>\n",
              "      </button>\n",
              "      \n",
              "  <style>\n",
              "    .colab-df-container {\n",
              "      display:flex;\n",
              "      flex-wrap:wrap;\n",
              "      gap: 12px;\n",
              "    }\n",
              "\n",
              "    .colab-df-convert {\n",
              "      background-color: #E8F0FE;\n",
              "      border: none;\n",
              "      border-radius: 50%;\n",
              "      cursor: pointer;\n",
              "      display: none;\n",
              "      fill: #1967D2;\n",
              "      height: 32px;\n",
              "      padding: 0 0 0 0;\n",
              "      width: 32px;\n",
              "    }\n",
              "\n",
              "    .colab-df-convert:hover {\n",
              "      background-color: #E2EBFA;\n",
              "      box-shadow: 0px 1px 2px rgba(60, 64, 67, 0.3), 0px 1px 3px 1px rgba(60, 64, 67, 0.15);\n",
              "      fill: #174EA6;\n",
              "    }\n",
              "\n",
              "    [theme=dark] .colab-df-convert {\n",
              "      background-color: #3B4455;\n",
              "      fill: #D2E3FC;\n",
              "    }\n",
              "\n",
              "    [theme=dark] .colab-df-convert:hover {\n",
              "      background-color: #434B5C;\n",
              "      box-shadow: 0px 1px 3px 1px rgba(0, 0, 0, 0.15);\n",
              "      filter: drop-shadow(0px 1px 2px rgba(0, 0, 0, 0.3));\n",
              "      fill: #FFFFFF;\n",
              "    }\n",
              "  </style>\n",
              "\n",
              "      <script>\n",
              "        const buttonEl =\n",
              "          document.querySelector('#df-2c229fbe-7c61-4842-973f-3538872c2d78 button.colab-df-convert');\n",
              "        buttonEl.style.display =\n",
              "          google.colab.kernel.accessAllowed ? 'block' : 'none';\n",
              "\n",
              "        async function convertToInteractive(key) {\n",
              "          const element = document.querySelector('#df-2c229fbe-7c61-4842-973f-3538872c2d78');\n",
              "          const dataTable =\n",
              "            await google.colab.kernel.invokeFunction('convertToInteractive',\n",
              "                                                     [key], {});\n",
              "          if (!dataTable) return;\n",
              "\n",
              "          const docLinkHtml = 'Like what you see? Visit the ' +\n",
              "            '<a target=\"_blank\" href=https://colab.research.google.com/notebooks/data_table.ipynb>data table notebook</a>'\n",
              "            + ' to learn more about interactive tables.';\n",
              "          element.innerHTML = '';\n",
              "          dataTable['output_type'] = 'display_data';\n",
              "          await google.colab.output.renderOutput(dataTable, element);\n",
              "          const docLink = document.createElement('div');\n",
              "          docLink.innerHTML = docLinkHtml;\n",
              "          element.appendChild(docLink);\n",
              "        }\n",
              "      </script>\n",
              "    </div>\n",
              "  </div>\n",
              "  "
            ]
          },
          "metadata": {},
          "execution_count": 17
        }
      ]
    },
    {
      "cell_type": "code",
      "source": [
        "X_train, X_test, y_train, y_test = train_test_split(X, Y, test_size = 0.2, random_state = 0)"
      ],
      "metadata": {
        "id": "sT6eS0s5I2s4"
      },
      "execution_count": 18,
      "outputs": []
    },
    {
      "cell_type": "code",
      "source": [
        "X[0:10]"
      ],
      "metadata": {
        "colab": {
          "base_uri": "https://localhost:8080/"
        },
        "id": "4vTkOx2OKPQI",
        "outputId": "1470c53d-03ec-4f01-b6c9-594336afd541"
      },
      "execution_count": 19,
      "outputs": [
        {
          "output_type": "execute_result",
          "data": {
            "text/plain": [
              "array([[0.0000000e+00, 1.0000000e+00, 1.6534920e+05, 0.0000000e+00,\n",
              "        4.7178410e+05, 1.3689780e+05],\n",
              "       [1.0000000e+00, 0.0000000e+00, 1.6259770e+05, 0.0000000e+00,\n",
              "        4.4389853e+05, 1.5137759e+05],\n",
              "       [0.0000000e+00, 0.0000000e+00, 1.5344151e+05, 1.0000000e+00,\n",
              "        4.0793454e+05, 1.0114555e+05],\n",
              "       [0.0000000e+00, 1.0000000e+00, 1.4437241e+05, 0.0000000e+00,\n",
              "        3.8319962e+05, 1.1867185e+05],\n",
              "       [0.0000000e+00, 0.0000000e+00, 1.4210734e+05, 1.0000000e+00,\n",
              "        3.6616842e+05, 9.1391770e+04],\n",
              "       [0.0000000e+00, 1.0000000e+00, 1.3187690e+05, 0.0000000e+00,\n",
              "        3.6286136e+05, 9.9814710e+04],\n",
              "       [1.0000000e+00, 0.0000000e+00, 1.3461546e+05, 0.0000000e+00,\n",
              "        1.2771682e+05, 1.4719887e+05],\n",
              "       [0.0000000e+00, 0.0000000e+00, 1.3029813e+05, 1.0000000e+00,\n",
              "        3.2387668e+05, 1.4553006e+05],\n",
              "       [0.0000000e+00, 1.0000000e+00, 1.2054252e+05, 0.0000000e+00,\n",
              "        3.1161329e+05, 1.4871895e+05],\n",
              "       [1.0000000e+00, 0.0000000e+00, 1.2333488e+05, 0.0000000e+00,\n",
              "        3.0498162e+05, 1.0867917e+05]])"
            ]
          },
          "metadata": {},
          "execution_count": 19
        }
      ]
    },
    {
      "cell_type": "code",
      "source": [
        "scaler = MinMaxScaler()\n",
        "X_train = scaler.fit_transform(X_train)\n",
        "X_test = scaler.transform(X_test)"
      ],
      "metadata": {
        "id": "f85poI3hKSDl"
      },
      "execution_count": 20,
      "outputs": []
    },
    {
      "cell_type": "code",
      "source": [
        "X_train[0:10]"
      ],
      "metadata": {
        "colab": {
          "base_uri": "https://localhost:8080/"
        },
        "id": "cv1vIxVQLLem",
        "outputId": "b7c0c431-4dcf-481f-ac6a-35a2fb7fff69"
      },
      "execution_count": 21,
      "outputs": [
        {
          "output_type": "execute_result",
          "data": {
            "text/plain": [
              "array([[0.        , 0.        , 0.33561668, 1.        , 0.45494286,\n",
              "        0.48655174],\n",
              "       [0.        , 1.        , 0.2782839 , 0.        , 0.43561799,\n",
              "        0.3173015 ],\n",
              "       [0.        , 0.        , 0.45557444, 1.        , 0.28413435,\n",
              "        0.87258866],\n",
              "       [1.        , 0.        , 0.2807759 , 0.        , 0.44680961,\n",
              "        1.        ],\n",
              "       [0.        , 0.        , 0.55488118, 1.        , 0.62511553,\n",
              "        0.59103645],\n",
              "       [0.        , 0.        , 0.7880179 , 1.        , 0.68649342,\n",
              "        0.88568959],\n",
              "       [0.        , 0.        , 0.72539353, 1.        , 0.54370828,\n",
              "        0.98922572],\n",
              "       [0.        , 1.        , 0.0060492 , 0.        , 0.0040356 ,\n",
              "        0.6847981 ],\n",
              "       [0.        , 1.        , 0.00327821, 0.        , 0.        ,\n",
              "        0.00432296],\n",
              "       [0.        , 1.        , 0.39676926, 0.        , 0.22709197,\n",
              "        0.95618996]])"
            ]
          },
          "metadata": {},
          "execution_count": 21
        }
      ]
    },
    {
      "cell_type": "code",
      "source": [
        "regressor = LinearRegression()\n",
        "regressor.fit(X_train,y_train)"
      ],
      "metadata": {
        "id": "qDOi1B8OLn-Q",
        "colab": {
          "base_uri": "https://localhost:8080/"
        },
        "outputId": "0a430a40-5ea7-400f-f7d0-840d72fa6c0e"
      },
      "execution_count": 23,
      "outputs": [
        {
          "output_type": "execute_result",
          "data": {
            "text/plain": [
              "LinearRegression()"
            ]
          },
          "metadata": {},
          "execution_count": 23
        }
      ]
    },
    {
      "cell_type": "code",
      "source": [
        "regressor.intercept_"
      ],
      "metadata": {
        "colab": {
          "base_uri": "https://localhost:8080/"
        },
        "id": "b0VI3TUjzcx2",
        "outputId": "e163fd83-acd1-493b-bdd5-d8829a762640"
      },
      "execution_count": 24,
      "outputs": [
        {
          "output_type": "execute_result",
          "data": {
            "text/plain": [
              "44153.95466784864"
            ]
          },
          "metadata": {},
          "execution_count": 24
        }
      ]
    },
    {
      "cell_type": "code",
      "source": [
        "regressor.coef_"
      ],
      "metadata": {
        "colab": {
          "base_uri": "https://localhost:8080/"
        },
        "id": "tPoQAO2x0F3_",
        "outputId": "9c8cc607-2af9-47da-8841-dba3bb63d8fa"
      },
      "execution_count": 26,
      "outputs": [
        {
          "output_type": "execute_result",
          "data": {
            "text/plain": [
              "array([ 8.66383692e+01,  7.86007422e+02,  1.27892182e+05, -8.72645791e+02,\n",
              "        1.72720281e+04,  3.49927567e+03])"
            ]
          },
          "metadata": {},
          "execution_count": 26
        }
      ]
    },
    {
      "cell_type": "code",
      "source": [
        "y_pred_train = regressor.predict(X_train)"
      ],
      "metadata": {
        "id": "yJkrvkkV0K4H"
      },
      "execution_count": 29,
      "outputs": []
    },
    {
      "cell_type": "code",
      "source": [
        "y_train"
      ],
      "metadata": {
        "colab": {
          "base_uri": "https://localhost:8080/"
        },
        "id": "S_WBEUIT0XoD",
        "outputId": "b3fab6bf-d0ac-4467-e822-c72010b5d162"
      },
      "execution_count": 30,
      "outputs": [
        {
          "output_type": "execute_result",
          "data": {
            "text/plain": [
              "array([ 96778.92,  96479.51, 105733.54,  96712.8 , 124266.9 , 155752.6 ,\n",
              "       132602.65,  64926.08,  35673.41, 101004.64, 129917.04,  99937.59,\n",
              "        97427.84, 126992.93,  71498.49, 118474.03,  69758.98, 152211.77,\n",
              "       134307.35, 107404.34, 156991.12, 125370.37,  78239.91,  14681.4 ,\n",
              "       191792.06, 141585.52,  89949.14, 108552.04, 156122.51, 108733.99,\n",
              "        90708.19, 111313.02, 122776.86, 149759.96,  81005.76,  49490.75,\n",
              "       182901.99, 192261.83,  42559.73,  65200.33])"
            ]
          },
          "metadata": {},
          "execution_count": 28
        },
        {
          "output_type": "execute_result",
          "data": {
            "text/plain": [
              "array([ 96778.92,  96479.51, 105733.54,  96712.8 , 124266.9 , 155752.6 ,\n",
              "       132602.65,  64926.08,  35673.41, 101004.64, 129917.04,  99937.59,\n",
              "        97427.84, 126992.93,  71498.49, 118474.03,  69758.98, 152211.77,\n",
              "       134307.35, 107404.34, 156991.12, 125370.37,  78239.91,  14681.4 ,\n",
              "       191792.06, 141585.52,  89949.14, 108552.04, 156122.51, 108733.99,\n",
              "        90708.19, 111313.02, 122776.86, 149759.96,  81005.76,  49490.75,\n",
              "       182901.99, 192261.83,  42559.73,  65200.33])"
            ]
          },
          "metadata": {},
          "execution_count": 30
        }
      ]
    },
    {
      "cell_type": "code",
      "source": [],
      "metadata": {
        "id": "AymgVnH_0ZHF"
      },
      "execution_count": null,
      "outputs": []
    }
  ]
}